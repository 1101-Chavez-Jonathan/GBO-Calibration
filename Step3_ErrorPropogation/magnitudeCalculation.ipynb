{
 "cells": [
  {
   "cell_type": "markdown",
   "id": "825d772e",
   "metadata": {},
   "source": [
    "## g' Filter Table and Math"
   ]
  },
  {
   "cell_type": "code",
   "execution_count": 56,
   "id": "b840b36e",
   "metadata": {
    "scrolled": false
   },
   "outputs": [
    {
     "data": {
      "text/html": [
       "<div>\n",
       "<style scoped>\n",
       "    .dataframe tbody tr th:only-of-type {\n",
       "        vertical-align: middle;\n",
       "    }\n",
       "\n",
       "    .dataframe tbody tr th {\n",
       "        vertical-align: top;\n",
       "    }\n",
       "\n",
       "    .dataframe thead th {\n",
       "        text-align: right;\n",
       "    }\n",
       "</style>\n",
       "<table border=\"1\" class=\"dataframe\">\n",
       "  <thead>\n",
       "    <tr style=\"text-align: right;\">\n",
       "      <th></th>\n",
       "      <th>id</th>\n",
       "      <th>xCenter</th>\n",
       "      <th>aperture_sum</th>\n",
       "      <th>aperture_sum_err</th>\n",
       "    </tr>\n",
       "  </thead>\n",
       "  <tbody>\n",
       "    <tr>\n",
       "      <th>0</th>\n",
       "      <td>1</td>\n",
       "      <td>2825.058367</td>\n",
       "      <td>2.836636e+06</td>\n",
       "      <td>1836.981328</td>\n",
       "    </tr>\n",
       "    <tr>\n",
       "      <th>1</th>\n",
       "      <td>2</td>\n",
       "      <td>2070.508843</td>\n",
       "      <td>3.356012e+04</td>\n",
       "      <td>738.727345</td>\n",
       "    </tr>\n",
       "    <tr>\n",
       "      <th>2</th>\n",
       "      <td>3</td>\n",
       "      <td>2333.906270</td>\n",
       "      <td>4.980129e+04</td>\n",
       "      <td>739.948092</td>\n",
       "    </tr>\n",
       "    <tr>\n",
       "      <th>3</th>\n",
       "      <td>4</td>\n",
       "      <td>2168.696896</td>\n",
       "      <td>3.062307e+04</td>\n",
       "      <td>721.106685</td>\n",
       "    </tr>\n",
       "    <tr>\n",
       "      <th>4</th>\n",
       "      <td>5</td>\n",
       "      <td>417.071420</td>\n",
       "      <td>1.789245e+05</td>\n",
       "      <td>825.557591</td>\n",
       "    </tr>\n",
       "  </tbody>\n",
       "</table>\n",
       "</div>"
      ],
      "text/plain": [
       "   id      xCenter  aperture_sum  aperture_sum_err\n",
       "0   1  2825.058367  2.836636e+06       1836.981328\n",
       "1   2  2070.508843  3.356012e+04        738.727345\n",
       "2   3  2333.906270  4.980129e+04        739.948092\n",
       "3   4  2168.696896  3.062307e+04        721.106685\n",
       "4   5   417.071420  1.789245e+05        825.557591"
      ]
     },
     "execution_count": 56,
     "metadata": {},
     "output_type": "execute_result"
    }
   ],
   "source": [
    "import numpy as np\n",
    "import matplotlib.pyplot as plt\n",
    "import pandas as pd\n",
    "from scipy import odr\n",
    "from math import log\n",
    "\n",
    "df = pd.read_csv(r\"C:\\Users\\Jonathan Chavez\\OneDrive\\Desktop\\GBO-Calibration\\g'filter.csv\",\n",
    "                 sep=\",\", encoding='cp1252')#encoding added as solution from encoding as UTF-8\n",
    "\n",
    "df.head()"
   ]
  },
  {
   "cell_type": "code",
   "execution_count": 57,
   "id": "06257da4",
   "metadata": {},
   "outputs": [
    {
     "name": "stdout",
     "output_type": "stream",
     "text": [
      "0     -16.13201 ± -8.16026\n",
      "1     -11.31456 ± -7.17121\n",
      "2     -11.74310 ± -7.17300\n",
      "3     -11.21512 ± -7.14500\n",
      "4     -13.13167 ± -7.29187\n",
      "5     -14.05071 ± -7.45140\n",
      "6     -11.61247 ± -7.16466\n",
      "7     -13.67655 ± -7.37827\n",
      "8     -14.32808 ± -7.52558\n",
      "9     -12.32723 ± -7.21228\n",
      "10    -15.05172 ± -7.74627\n",
      "11    -14.83355 ± -7.67293\n",
      "12    -11.46205 ± -7.17562\n",
      "13    -12.52128 ± -7.24312\n",
      "Name: log_sum_with_error, dtype: object\n"
     ]
    }
   ],
   "source": [
    "df['log_sum'] = -2.5 * np.log10(df['aperture_sum'])\n",
    "df['log_err'] = -2.5 * np.log10(df['aperture_sum_err'])\n",
    "\n",
    "df['log_sum_with_error'] = df.apply(lambda row: f\"{row['log_sum']:.5f} ± {row['log_err']:.5f}\", axis=1)\n",
    "print(df.log_sum_with_error)"
   ]
  },
  {
   "cell_type": "markdown",
   "id": "a1232a39",
   "metadata": {},
   "source": [
    "## i' Filter Table and Math"
   ]
  },
  {
   "cell_type": "code",
   "execution_count": 58,
   "id": "263b2724",
   "metadata": {},
   "outputs": [
    {
     "data": {
      "text/html": [
       "<div>\n",
       "<style scoped>\n",
       "    .dataframe tbody tr th:only-of-type {\n",
       "        vertical-align: middle;\n",
       "    }\n",
       "\n",
       "    .dataframe tbody tr th {\n",
       "        vertical-align: top;\n",
       "    }\n",
       "\n",
       "    .dataframe thead th {\n",
       "        text-align: right;\n",
       "    }\n",
       "</style>\n",
       "<table border=\"1\" class=\"dataframe\">\n",
       "  <thead>\n",
       "    <tr style=\"text-align: right;\">\n",
       "      <th></th>\n",
       "      <th>id</th>\n",
       "      <th>xCenter</th>\n",
       "      <th>aperture_sum</th>\n",
       "      <th>aperture_sum_err</th>\n",
       "    </tr>\n",
       "  </thead>\n",
       "  <tbody>\n",
       "    <tr>\n",
       "      <th>0</th>\n",
       "      <td>1</td>\n",
       "      <td>2830.680412</td>\n",
       "      <td>2.024634e+06</td>\n",
       "      <td>1564.044508</td>\n",
       "    </tr>\n",
       "    <tr>\n",
       "      <th>1</th>\n",
       "      <td>2</td>\n",
       "      <td>2075.396365</td>\n",
       "      <td>4.029140e+04</td>\n",
       "      <td>669.371783</td>\n",
       "    </tr>\n",
       "    <tr>\n",
       "      <th>2</th>\n",
       "      <td>3</td>\n",
       "      <td>2338.918181</td>\n",
       "      <td>3.912937e+04</td>\n",
       "      <td>656.629031</td>\n",
       "    </tr>\n",
       "    <tr>\n",
       "      <th>3</th>\n",
       "      <td>4</td>\n",
       "      <td>2173.533134</td>\n",
       "      <td>2.382374e+04</td>\n",
       "      <td>638.888292</td>\n",
       "    </tr>\n",
       "    <tr>\n",
       "      <th>4</th>\n",
       "      <td>5</td>\n",
       "      <td>420.414143</td>\n",
       "      <td>1.424999e+05</td>\n",
       "      <td>738.369770</td>\n",
       "    </tr>\n",
       "  </tbody>\n",
       "</table>\n",
       "</div>"
      ],
      "text/plain": [
       "   id      xCenter  aperture_sum  aperture_sum_err\n",
       "0   1  2830.680412  2.024634e+06       1564.044508\n",
       "1   2  2075.396365  4.029140e+04        669.371783\n",
       "2   3  2338.918181  3.912937e+04        656.629031\n",
       "3   4  2173.533134  2.382374e+04        638.888292\n",
       "4   5   420.414143  1.424999e+05        738.369770"
      ]
     },
     "execution_count": 58,
     "metadata": {},
     "output_type": "execute_result"
    }
   ],
   "source": [
    "import numpy as np\n",
    "import matplotlib.pyplot as plt\n",
    "import pandas as pd\n",
    "from scipy import odr\n",
    "\n",
    "df = pd.read_csv(r\"C:\\Users\\Jonathan Chavez\\OneDrive\\Desktop\\GBO-Calibration\\i'filter.csv\",\n",
    "                 sep=\",\", encoding='cp1252')\n",
    "\n",
    "df.head()"
   ]
  },
  {
   "cell_type": "code",
   "execution_count": 59,
   "id": "e23e32ca",
   "metadata": {},
   "outputs": [
    {
     "name": "stdout",
     "output_type": "stream",
     "text": [
      "0     -15.76587 ± -7.98562\n",
      "1     -11.51303 ± -7.06417\n",
      "2     -11.48126 ± -7.04330\n",
      "3     -10.94252 ± -7.01356\n",
      "4     -12.88454 ± -7.17068\n",
      "5     -13.83549 ± -7.33568\n",
      "6     -11.45763 ± -7.04324\n",
      "7     -14.57301 ± -7.53926\n",
      "8     -13.71674 ± -7.31305\n",
      "9     -12.19029 ± -7.08952\n",
      "10    -15.20823 ± -7.76522\n",
      "11    -14.55396 ± -7.53667\n",
      "12    -11.33585 ± -7.05769\n",
      "13    -12.37604 ± -7.12518\n",
      "Name: log_sum_with_error, dtype: object\n"
     ]
    }
   ],
   "source": [
    "df['log_sum'] = -2.5 * np.log10(df['aperture_sum'])\n",
    "df['log_err'] = -2.5 * np.log10(df['aperture_sum_err'])\n",
    "\n",
    "df['log_sum_with_error'] = df.apply(lambda row: f\"{row['log_sum']:.5f} ± {row['log_err']:.5f}\", axis=1)\n",
    "print(df.log_sum_with_error)"
   ]
  },
  {
   "cell_type": "markdown",
   "id": "306aff79",
   "metadata": {},
   "source": [
    "# # Instrumental Magnitudes Table"
   ]
  },
  {
   "cell_type": "code",
   "execution_count": 20,
   "id": "ea88904a",
   "metadata": {},
   "outputs": [
    {
     "data": {
      "text/html": [
       "<div>\n",
       "<style scoped>\n",
       "    .dataframe tbody tr th:only-of-type {\n",
       "        vertical-align: middle;\n",
       "    }\n",
       "\n",
       "    .dataframe tbody tr th {\n",
       "        vertical-align: top;\n",
       "    }\n",
       "\n",
       "    .dataframe thead th {\n",
       "        text-align: right;\n",
       "    }\n",
       "</style>\n",
       "<table border=\"1\" class=\"dataframe\">\n",
       "  <thead>\n",
       "    <tr style=\"text-align: right;\">\n",
       "      <th></th>\n",
       "      <th>Ra (deg)</th>\n",
       "      <th>Dec (deg)</th>\n",
       "      <th>g’</th>\n",
       "      <th>g’err</th>\n",
       "      <th>i’</th>\n",
       "      <th>i’err</th>\n",
       "    </tr>\n",
       "  </thead>\n",
       "  <tbody>\n",
       "    <tr>\n",
       "      <th>0</th>\n",
       "      <td>209.397542</td>\n",
       "      <td>-9.752132</td>\n",
       "      <td>11.223</td>\n",
       "      <td>0.020</td>\n",
       "      <td>10.771</td>\n",
       "      <td>0.076</td>\n",
       "    </tr>\n",
       "    <tr>\n",
       "      <th>1</th>\n",
       "      <td>209.318113</td>\n",
       "      <td>-9.627305</td>\n",
       "      <td>16.077</td>\n",
       "      <td>0.029</td>\n",
       "      <td>14.936</td>\n",
       "      <td>0.056</td>\n",
       "    </tr>\n",
       "    <tr>\n",
       "      <th>2</th>\n",
       "      <td>209.360342</td>\n",
       "      <td>-9.411171</td>\n",
       "      <td>15.534</td>\n",
       "      <td>0.072</td>\n",
       "      <td>14.891</td>\n",
       "      <td>0.064</td>\n",
       "    </tr>\n",
       "    <tr>\n",
       "      <th>3</th>\n",
       "      <td>209.344599</td>\n",
       "      <td>-9.354614</td>\n",
       "      <td>16.072</td>\n",
       "      <td>0.057</td>\n",
       "      <td>15.411</td>\n",
       "      <td>0.068</td>\n",
       "    </tr>\n",
       "    <tr>\n",
       "      <th>4</th>\n",
       "      <td>209.137084</td>\n",
       "      <td>-9.480872</td>\n",
       "      <td>14.154</td>\n",
       "      <td>0.051</td>\n",
       "      <td>13.547</td>\n",
       "      <td>0.034</td>\n",
       "    </tr>\n",
       "  </tbody>\n",
       "</table>\n",
       "</div>"
      ],
      "text/plain": [
       "     Ra (deg)  Dec (deg)      g’  g’err      i’  i’err\n",
       "0  209.397542  -9.752132  11.223  0.020  10.771  0.076\n",
       "1  209.318113  -9.627305  16.077  0.029  14.936  0.056\n",
       "2  209.360342  -9.411171  15.534  0.072  14.891  0.064\n",
       "3  209.344599  -9.354614  16.072  0.057  15.411  0.068\n",
       "4  209.137084  -9.480872  14.154  0.051  13.547  0.034"
      ]
     },
     "execution_count": 20,
     "metadata": {},
     "output_type": "execute_result"
    }
   ],
   "source": [
    "import numpy as np\n",
    "import matplotlib.pyplot as plt\n",
    "import pandas as pd\n",
    "from scipy import odr\n",
    "\n",
    "df = pd.read_csv(r\"C:\\Users\\Jonathan Chavez\\OneDrive\\Desktop\\GBO-Calibration\\instrumentals.csv\",\n",
    "                 sep=\",\", encoding='cp1252') #Note: In this CSV file, logarithms are already taken\n",
    "\n",
    "df.head()"
   ]
  }
 ],
 "metadata": {
  "kernelspec": {
   "display_name": "Python 3 (ipykernel)",
   "language": "python",
   "name": "python3"
  },
  "language_info": {
   "codemirror_mode": {
    "name": "ipython",
    "version": 3
   },
   "file_extension": ".py",
   "mimetype": "text/x-python",
   "name": "python",
   "nbconvert_exporter": "python",
   "pygments_lexer": "ipython3",
   "version": "3.11.5"
  }
 },
 "nbformat": 4,
 "nbformat_minor": 5
}

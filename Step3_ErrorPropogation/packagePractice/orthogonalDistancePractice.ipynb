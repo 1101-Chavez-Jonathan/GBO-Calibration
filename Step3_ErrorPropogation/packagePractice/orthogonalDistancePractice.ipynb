{
 "cells": [
  {
   "cell_type": "code",
   "execution_count": 6,
   "id": "3af341af",
   "metadata": {},
   "outputs": [
    {
     "name": "stdout",
     "output_type": "stream",
     "text": [
      "Beta: [ 0.08369761 -0.25848596]\n",
      "Beta Std Error: [0.05767888 0.31006849]\n",
      "Beta Covariance: [[ 0.00174368 -0.00776881]\n",
      " [-0.00776881  0.05039034]]\n",
      "Residual Variance: 1.9079543180317624\n",
      "Inverse Condition #: 0.09752355841633968\n",
      "Reason(s) for Halting:\n",
      "  Sum of squares convergence\n"
     ]
    },
    {
     "data": {
      "image/png": "[encoded data removed]",
      "text/plain": [
       "<Figure size 640x480 with 1 Axes>"
      ]
     },
     "metadata": {},
     "output_type": "display_data"
    }
   ],
   "source": [
    "import numpy as np\n",
    "import matplotlib.pyplot as plt\n",
    "\n",
    "#odr function from scipy package used to perform ODR regression\n",
    "from scipy import odr\n",
    "import random as r #importing random values I assume?\n",
    "\n",
    "#Create a sample feature array and a target array\n",
    "feature = np.array(np.arange(1,11))\n",
    "\n",
    "#shuffle created array\n",
    "np.random.shuffle(feature) #why is it necessary to shuffle the array?\n",
    "\n",
    "#create a target array of random numbers\n",
    "target = np.array([0.65, -0.75, 0.90, -0.5, 0.14, 0.84, 0.99, -0.95, 0.41, -0.28])\n",
    "x_error = np.array([0.1, 0.2, 0.3, 0.4, 0.5, 0.6, 0.7, 0.8, 0.9, 0.10])\n",
    "y_error = 2 * x_error\n",
    "\n",
    "def target_function(p, x): \n",
    "    m, c = p\n",
    "    return m*x + c\n",
    "\n",
    "#model fit\n",
    "odr_model = odr.Model(target_function)\n",
    "\n",
    "#create a data object using sample data created\n",
    "#data = odr.Data(feature, target)\n",
    "data = Data(feature, target, wd=1./x_error**2., we=1./y_error**2)\n",
    "\n",
    "#set ODR with the model and data\n",
    "ordinal_distance_reg = odr.ODR(data, odr_model, beta0=[0.2, 1.])\n",
    "\n",
    "#run the regression\n",
    "out = ordinal_distance_reg.run()\n",
    "\n",
    "#print the results\n",
    "out.pprint()\n",
    "\n",
    "#Plotting this figure \n",
    "#NOTE: Doesn't use point weight\n",
    "x_fit = np.linspace(min(feature), max(feature), 100)\n",
    "y_fit = target_function(out.beta, x_fit)\n",
    "\n",
    "plt.errorbar(feature, target, xerr=x_error, yerr=y_error, label='Data Points', color = 'k', marker = 'o', linestyle= '')\n",
    "plt.plot(x_fit, y_fit, label='Linear Regression', color='red')\n",
    "plt.xlabel('Feature')\n",
    "plt.ylabel('Target')\n",
    "plt.legend()\n",
    "plt.show()"
   ]
  },
  {
   "cell_type": "code",
   "execution_count": 1,
   "id": "76b527e1",
   "metadata": {},
   "outputs": [
    {
     "name": "stdout",
     "output_type": "stream",
     "text": [
      "Beta: [1. 0.]\n",
      "Beta Std Error: [0. 0.]\n",
      "Beta Covariance: [[ 5.20000039 -7.80000026]\n",
      " [-7.80000026 18.1999991 ]]\n",
      "Residual Variance: 0.0\n",
      "Inverse Condition #: 0.031539738669233985\n",
      "Reason(s) for Halting:\n",
      "  Sum of squares convergence\n"
     ]
    }
   ],
   "source": [
    "import numpy as np\n",
    "import matplotlib.pyplot as plt\n",
    "from scipy.odr import *\n",
    "\n",
    "def linear_func(B, x):\n",
    "    return B[0]*x+B[1]\n",
    "\n",
    "x_data=np.array([0.0, 1.0, 2.0, 3.0])\n",
    "y_data=np.array([0.0, 1.0, 2.0, 3.0])\n",
    "x_err=np.array([1.0, 1.0, 1.0, 1.0])\n",
    "y_err=np.array([5.0, 5.0, 5.0, 5.0])\n",
    "\n",
    "linear=Model(linear_func)\n",
    "data=RealData(x_data, y_data, sx=x_err, sy=y_err)\n",
    "odr=ODR(data, linear, beta0=[1.0, 0.0])\n",
    "out=odr.run()\n",
    "out.pprint()"
   ]
  },
  {
   "cell_type": "code",
   "execution_count": null,
   "id": "5d192a7c",
   "metadata": {},
   "outputs": [],
   "source": []
  }
 ],
 "metadata": {
  "kernelspec": {
   "display_name": "Python 3 (ipykernel)",
   "language": "python",
   "name": "python3"
  },
  "language_info": {
   "codemirror_mode": {
    "name": "ipython",
    "version": 3
   },
   "file_extension": ".py",
   "mimetype": "text/x-python",
   "name": "python",
   "nbconvert_exporter": "python",
   "pygments_lexer": "ipython3",
   "version": "3.11.4"
  }
 },
 "nbformat": 4,
 "nbformat_minor": 5
}

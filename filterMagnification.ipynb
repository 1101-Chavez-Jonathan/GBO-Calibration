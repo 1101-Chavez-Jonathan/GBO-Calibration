{
 "cells": [
  {
   "cell_type": "code",
   "execution_count": null,
   "id": "a6d0738e",
   "metadata": {},
   "outputs": [],
   "source": [
    "from astropy.io import fits\n",
    "from astropy.nddata import CCDData\n",
    "from ccdproc import combine\n",
    "\n",
    "def combine_exposures(filter_name, exposure_paths, output_path):\n",
    "    # Read and combine the individual exposures\n",
    "    exposures = [CCDData.read(path, unit='adu') for path in exposure_paths]\n",
    "    combined_exposure = combine(exposures, method='average', sigma_clip=True, sigma_clip_low_thresh=5, sigma_clip_high_thresh=5)\n",
    "\n",
    "\n",
    "    # Save the combined image\n",
    "    fits.writeto(output_path, combined_exposure.data, overwrite=True)\n",
    "    print(f\"Combined image for {filter_name} filter saved to {output_path}\")\n",
    "\n",
    "# Example usage for each filter\n",
    "combine_exposures('g', ['g_exp1.fits', 'g_exp2.fits', 'g_exp3.fits', 'g_exp4.fits', 'g_exp5.fits'], 'combined_g.fits')\n",
    "combine_exposures('b', ['b_exp1.fits', 'b_exp2.fits', 'b_exp3.fits', 'b_exp4.fits', 'b_exp5.fits'], 'combined_b.fits')\n",
    "combine_exposures('v', ['v_exp1.fits', 'v_exp2.fits', 'v_exp3.fits', 'v_exp4.fits', 'v_exp5.fits'], 'combined_v.fits')\n",
    "combine_exposures('r', ['r_exp1.fits', 'r_exp2.fits', 'r_exp3.fits', 'r_exp4.fits', 'r_exp5.fits'], 'combined_r.fits')\n",
    "combine_exposures('i', ['i_exp1.fits', 'i_exp2.fits', 'i_exp3.fits', 'i_exp4.fits', 'i_exp5.fits'], 'combined_i.fits')"
   ]
  }
 ],
 "metadata": {
  "kernelspec": {
   "display_name": "Python 3 (ipykernel)",
   "language": "python",
   "name": "python3"
  },
  "language_info": {
   "codemirror_mode": {
    "name": "ipython",
    "version": 3
   },
   "file_extension": ".py",
   "mimetype": "text/x-python",
   "name": "python",
   "nbconvert_exporter": "python",
   "pygments_lexer": "ipython3",
   "version": "3.11.4"
  }
 },
 "nbformat": 4,
 "nbformat_minor": 5
}

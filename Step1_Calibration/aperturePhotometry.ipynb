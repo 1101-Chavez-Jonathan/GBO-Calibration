{
 "cells": [
  {
   "cell_type": "code",
   "execution_count": null,
   "id": "66c915b3",
   "metadata": {},
   "outputs": [],
   "source": [
    "from astropy.io import fits\n",
    "from photutils import CircularAperture, aperture_photometry\n",
    "\n",
    "# Load FITS files\n",
    "filter_paths = ['path/to/your/filter1.fits', 'path/to/your/filter2.fits', ...]\n",
    "\n",
    "\n",
    "# Manually or programmatically define star positions for each filter\n",
    "star_positions = [(x1, y1), (x2, y2), ...]\n",
    "\n",
    "# ... \n",
    "\n",
    "# Define aperture parameters\n",
    "aperture_radius = 5.0  # adjust as needed\n",
    "\n",
    "\n",
    "for filter_path in filter_paths:\n",
    "    \n",
    "    hdulist = fits.open(filter_path)\n",
    "    data = hdulist[0].data\n",
    "    hdulist.close()\n",
    "    \n",
    "    for postion in star_positions:\n",
    "        \n",
    "        # Create CircularAperture objects\n",
    "        apertures = [CircularAperture(position, r=aperture_radius)]\n",
    "        \n",
    "        # Perform aperture photometry\n",
    "        phot_table = aperture_photometry(data, apertures)\n",
    "        #this pront statement may need adjustment\n",
    "        \n",
    "        \n",
    "        # Print or store the results (flux measurements) for each star\n",
    "        print(f\"Results for {filter_path}:\")\n",
    "        print(phot_table)\n"
   ]
  }
 ],
 "metadata": {
  "kernelspec": {
   "display_name": "Python 3 (ipykernel)",
   "language": "python",
   "name": "python3"
  },
  "language_info": {
   "codemirror_mode": {
    "name": "ipython",
    "version": 3
   },
   "file_extension": ".py",
   "mimetype": "text/x-python",
   "name": "python",
   "nbconvert_exporter": "python",
   "pygments_lexer": "ipython3",
   "version": "3.11.4"
  }
 },
 "nbformat": 4,
 "nbformat_minor": 5
}

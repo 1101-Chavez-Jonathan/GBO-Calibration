{
 "cells": [
  {
   "cell_type": "code",
   "execution_count": 1,
   "id": "66c915b3",
   "metadata": {},
   "outputs": [
    {
     "ename": "ModuleNotFoundError",
     "evalue": "No module named 'photutils'",
     "output_type": "error",
     "traceback": [
      "\u001b[0;31m---------------------------------------------------------------------------\u001b[0m",
      "\u001b[0;31mModuleNotFoundError\u001b[0m                       Traceback (most recent call last)",
      "Cell \u001b[0;32mIn[1], line 4\u001b[0m\n\u001b[1;32m      2\u001b[0m \u001b[38;5;28;01mimport\u001b[39;00m \u001b[38;5;21;01mastropy\u001b[39;00m\u001b[38;5;21;01m.\u001b[39;00m\u001b[38;5;21;01munits\u001b[39;00m \u001b[38;5;28;01mas\u001b[39;00m \u001b[38;5;21;01mu\u001b[39;00m\n\u001b[1;32m      3\u001b[0m \u001b[38;5;28;01mfrom\u001b[39;00m \u001b[38;5;21;01mastropy\u001b[39;00m\u001b[38;5;21;01m.\u001b[39;00m\u001b[38;5;21;01mcoordinates\u001b[39;00m \u001b[38;5;28;01mimport\u001b[39;00m SkyCoord\n\u001b[0;32m----> 4\u001b[0m \u001b[38;5;28;01mfrom\u001b[39;00m \u001b[38;5;21;01mphotutils\u001b[39;00m\u001b[38;5;21;01m.\u001b[39;00m\u001b[38;5;21;01maperture\u001b[39;00m \u001b[38;5;28;01mimport\u001b[39;00m SkyCircularAperture, aperture_photometry\n\u001b[1;32m      7\u001b[0m \u001b[38;5;66;03m# Load FITS files\u001b[39;00m\n\u001b[1;32m      8\u001b[0m filter_paths \u001b[38;5;241m=\u001b[39m [\u001b[38;5;124m\"\u001b[39m\u001b[38;5;124m/content/drive/MyDrive/Colab Notebooks/g\u001b[39m\u001b[38;5;124m'\u001b[39m\u001b[38;5;124mcalibrated.fits\u001b[39m\u001b[38;5;124m\"\u001b[39m]\n",
      "\u001b[0;31mModuleNotFoundError\u001b[0m: No module named 'photutils'"
     ]
    }
   ],
   "source": [
    "from astropy.io import fits\n",
    "import astropy.units as u\n",
    "from astropy.coordinates import SkyCoord\n",
    "from photutils.aperture import SkyCircularAperture, aperture_photometry\n",
    "\n",
    "\n",
    "# Load FITS files\n",
    "filter_paths = [\"/content/drive/MyDrive/Colab Notebooks/g'calibrated.fits\"]\n",
    "\n",
    "\n",
    "# Manually or programmatically define star positions for each filter\n",
    "star_positions = SkyCoord(ra=[209.4833065], dec=[-9.4145123], unit='deg')\n",
    "\n",
    "# ...\n",
    "\n",
    "# Define aperture parameters\n",
    "aperture_radius = 5.0  # adjust as needed\n",
    "\n",
    "\n",
    "for filter_path in filter_paths:\n",
    "\n",
    "    hdulist = fits.open(filter_path)\n",
    "    data = hdulist[0].data\n",
    "    hdulist.close()\n",
    "\n",
    "    for position in star_positions:\n",
    "\n",
    "        # Create CircularAperture objects\n",
    "        apertures = [SkyCircularAperture(position, r = 0.0041290*u.deg)]\n",
    "\n",
    "        # Perform aperture photometry\n",
    "        phot_table = aperture_photometry(data, apertures)\n",
    "        #this print statement may need adjustment\n",
    "\n",
    "\n",
    "        # Print or store the results (flux measurements) for each star\n",
    "        print(f\"Results for g':\")\n",
    "        print(phot_table)"
   ]
  },
  {
   "cell_type": "code",
   "execution_count": null,
   "id": "9dd8eafe",
   "metadata": {},
   "outputs": [],
   "source": []
  }
 ],
 "metadata": {
  "kernelspec": {
   "display_name": "Python 3 (ipykernel)",
   "language": "python",
   "name": "python3"
  },
  "language_info": {
   "codemirror_mode": {
    "name": "ipython",
    "version": 3
   },
   "file_extension": ".py",
   "mimetype": "text/x-python",
   "name": "python",
   "nbconvert_exporter": "python",
   "pygments_lexer": "ipython3",
   "version": "3.11.4"
  }
 },
 "nbformat": 4,
 "nbformat_minor": 5
}
